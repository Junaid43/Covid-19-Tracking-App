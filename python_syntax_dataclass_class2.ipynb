{
  "nbformat": 4,
  "nbformat_minor": 0,
  "metadata": {
    "colab": {
      "provenance": [],
      "authorship_tag": "ABX9TyNB9aUzZhQ78CXpdjy7RkE2",
      "include_colab_link": true
    },
    "kernelspec": {
      "name": "python3",
      "display_name": "Python 3"
    },
    "language_info": {
      "name": "python"
    }
  },
  "cells": [
    {
      "cell_type": "markdown",
      "metadata": {
        "id": "view-in-github",
        "colab_type": "text"
      },
      "source": [
        "<a href=\"https://colab.research.google.com/github/Junaid43/Covid-19-Tracking-App/blob/master/python_syntax_dataclass_class2.ipynb\" target=\"_parent\"><img src=\"https://colab.research.google.com/assets/colab-badge.svg\" alt=\"Open In Colab\"/></a>"
      ]
    },
    {
      "cell_type": "code",
      "execution_count": null,
      "metadata": {
        "id": "00W5OrqtVacj"
      },
      "outputs": [],
      "source": [
        "from dataclasses import dataclass,field\n",
        "from typing import ClassVar\n",
        "\n",
        "\n",
        "@dataclass\n",
        "class Person:\n",
        "  name:str\n",
        "  age:int\n",
        "  email:str | None = None\n",
        "  tags:list[str] = field(default_factory=list)\n",
        "  national_food:ClassVar[str]=\"Biryani\"\n",
        "\n",
        "  def is_adult(self)->bool:\n",
        "    return self.age >= 18\n",
        "\n",
        "  @staticmethod\n",
        "  def is_email_valid(email:str)->bool:\n",
        "    return \"@\" in email\n",
        "\n",
        "  @classmethod\n",
        "  def get_food(cls):\n",
        "    return f\"National Food: {cls.national_food}\"\n"
      ]
    },
    {
      "cell_type": "code",
      "source": [
        "person1 = Person(name=\"Junaid\", age=28)\n",
        "person2 = Person(name=\"Junaid\", age=28,email=\"junaid@gmail.com\")\n",
        "person3 = Person(name=\"Junaid\", age=28,email=\"junaid@gmail.com\",tags=[\"python\",\"java\"])"
      ],
      "metadata": {
        "id": "tN0uKeNHbSA6"
      },
      "execution_count": null,
      "outputs": []
    },
    {
      "cell_type": "code",
      "source": [
        "person1.is_adult()"
      ],
      "metadata": {
        "colab": {
          "base_uri": "https://localhost:8080/"
        },
        "id": "lIiD_PpEbloI",
        "outputId": "1c1d6e1d-bfd5-44c2-9090-7ccedbc51b24"
      },
      "execution_count": null,
      "outputs": [
        {
          "output_type": "execute_result",
          "data": {
            "text/plain": [
              "True"
            ]
          },
          "metadata": {},
          "execution_count": 38
        }
      ]
    },
    {
      "cell_type": "code",
      "source": [
        "print(f\"Person1: {person1}\")\n",
        "print(f\"Person2: {person2}\")\n",
        "print(f\"Person3: {person3}\")"
      ],
      "metadata": {
        "colab": {
          "base_uri": "https://localhost:8080/"
        },
        "id": "4JNTOOcccST1",
        "outputId": "6c06375d-60f3-4f04-8355-6168cdca38c8"
      },
      "execution_count": null,
      "outputs": [
        {
          "output_type": "stream",
          "name": "stdout",
          "text": [
            "Person1: Person(name='Junaid', age=28, email=None, tags=[])\n",
            "Person2: Person(name='Junaid', age=28, email='junaid@gmail.com', tags=[])\n",
            "Person3: Person(name='Junaid', age=28, email='junaid@gmail.com', tags=['python', 'java'])\n"
          ]
        }
      ]
    },
    {
      "cell_type": "code",
      "source": [
        "person1.tags.append(\"tags\")"
      ],
      "metadata": {
        "id": "aA4zvzpzcWct"
      },
      "execution_count": null,
      "outputs": []
    },
    {
      "cell_type": "code",
      "source": [
        "print(f\"Person1: {person1}\")"
      ],
      "metadata": {
        "colab": {
          "base_uri": "https://localhost:8080/"
        },
        "id": "Yp2GsHGHcbtm",
        "outputId": "975ceb81-f40f-49f5-ac0a-52da897b1cea"
      },
      "execution_count": null,
      "outputs": [
        {
          "output_type": "stream",
          "name": "stdout",
          "text": [
            "Person1: Person(name='Junaid', age=28, email=None, tags=['tags'])\n"
          ]
        }
      ]
    },
    {
      "cell_type": "code",
      "source": [
        "Person.is_email_valid(email=\"junaid@gmail.com\")"
      ],
      "metadata": {
        "colab": {
          "base_uri": "https://localhost:8080/"
        },
        "id": "hNm1Ig7vckO_",
        "outputId": "af5a5de9-be45-4f78-cde5-17a74e07b977"
      },
      "execution_count": null,
      "outputs": [
        {
          "output_type": "execute_result",
          "data": {
            "text/plain": [
              "True"
            ]
          },
          "metadata": {},
          "execution_count": 42
        }
      ]
    },
    {
      "cell_type": "code",
      "source": [
        "Person.is_email_valid(email=\"junaid\")"
      ],
      "metadata": {
        "colab": {
          "base_uri": "https://localhost:8080/"
        },
        "id": "W0QnN9rsd-Ui",
        "outputId": "aff0e8e3-8191-4e64-cf55-eaa9aca76b20"
      },
      "execution_count": null,
      "outputs": [
        {
          "output_type": "execute_result",
          "data": {
            "text/plain": [
              "False"
            ]
          },
          "metadata": {},
          "execution_count": 43
        }
      ]
    },
    {
      "cell_type": "code",
      "source": [
        "Person.get_food()"
      ],
      "metadata": {
        "colab": {
          "base_uri": "https://localhost:8080/",
          "height": 35
        },
        "id": "1oS3qJ8XeQob",
        "outputId": "cde07a40-e88f-4789-d14d-aebaec38f25a"
      },
      "execution_count": null,
      "outputs": [
        {
          "output_type": "execute_result",
          "data": {
            "text/plain": [
              "'National Food: Biryani'"
            ],
            "application/vnd.google.colaboratory.intrinsic+json": {
              "type": "string"
            }
          },
          "metadata": {},
          "execution_count": 48
        }
      ]
    }
  ]
}